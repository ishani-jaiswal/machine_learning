{
  "cells": [
    {
      "cell_type": "code",
      "execution_count": null,
      "metadata": {
        "colab": {
          "background_save": true,
          "base_uri": "https://localhost:8080/"
        },
        "id": "qrAMFgTMwtEk",
        "outputId": "b5263c4b-c51e-4c25-9c8d-7d68f388076a"
      },
      "outputs": [
        {
          "name": "stderr",
          "output_type": "stream",
          "text": [
            "/usr/local/lib/python3.10/dist-packages/sklearn/linear_model/_logistic.py:1247: FutureWarning: 'multi_class' was deprecated in version 1.5 and will be removed in 1.7. From then on, it will always use 'multinomial'. Leave it to its default value to avoid this warning.\n",
            "  warnings.warn(\n",
            "/usr/local/lib/python3.10/dist-packages/sklearn/linear_model/_sag.py:348: ConvergenceWarning: The max_iter was reached which means the coef_ did not converge\n",
            "  warnings.warn(\n"
          ]
        },
        {
          "name": "stdout",
          "output_type": "stream",
          "text": [
            "Test Accuracy: 40.72%\n"
          ]
        },
        {
          "data": {
            "image/png": "[encoded data removed]",
            "text/plain": [
              "<Figure size 1000x200 with 5 Axes>"
            ]
          },
          "metadata": {},
          "output_type": "display_data"
        }
      ],
      "source": [
        "# Google Colab Code: Transform MNIST and Apply Logistic Regression\n",
        "import numpy as np\n",
        "import matplotlib.pyplot as plt\n",
        "from sklearn.linear_model import LogisticRegression\n",
        "from sklearn.metrics import accuracy_score\n",
        "from tensorflow.keras.datasets import mnist\n",
        "from tensorflow.keras.preprocessing.image import ImageDataGenerator\n",
        "\n",
        "# Step 1: Load MNIST Dataset\n",
        "(x_train, y_train), (x_test, y_test) = mnist.load_data()\n",
        "\n",
        "# Normalize the data to range [0, 1]\n",
        "x_train = x_train / 255.0\n",
        "x_test = x_test / 255.0\n",
        "\n",
        "# Expand dimensions to fit data augmentation requirements\n",
        "x_train = x_train[..., np.newaxis]\n",
        "x_test = x_test[..., np.newaxis]\n",
        "\n",
        "# Step 2: Data Augmentation\n",
        "datagen = ImageDataGenerator(\n",
        "    rotation_range=30,         # Rotate images up to 30 degrees\n",
        "    width_shift_range=0.2,     # Horizontal shift\n",
        "    height_shift_range=0.2,    # Vertical shift\n",
        "    zoom_range=0.2             # Scaling/Zooming\n",
        ")\n",
        "\n",
        "# Apply transformations\n",
        "augmented_images = datagen.flow(x_train, y_train, batch_size=len(x_train), shuffle=False)\n",
        "\n",
        "# Use `next()` function to get the data\n",
        "x_train_augmented, y_train_augmented = next(augmented_images)\n",
        "\n",
        "# Reshape the data back to 2D for model compatibility\n",
        "x_train_augmented = x_train_augmented.reshape(len(x_train_augmented), -1)\n",
        "x_test = x_test.reshape(len(x_test), -1)\n",
        "\n",
        "# Step 3: Train Logistic Regression Model\n",
        "model = LogisticRegression(max_iter=1000, solver='saga', multi_class='multinomial')\n",
        "model.fit(x_train_augmented, y_train)\n",
        "\n",
        "# Step 4: Evaluate Model\n",
        "y_pred = model.predict(x_test)\n",
        "accuracy = accuracy_score(y_test, y_pred)\n",
        "\n",
        "print(f\"Test Accuracy: {accuracy * 100:.2f}%\")\n",
        "\n",
        "# Step 5: Visualize a few transformations\n",
        "fig, axes = plt.subplots(1, 5, figsize=(10, 2))\n",
        "for i, ax in enumerate(axes):\n",
        "    ax.imshow(x_train_augmented[i].reshape(28, 28), cmap='gray')\n",
        "    ax.axis('off')\n",
        "plt.suptitle(\"Sample Transformed Images\")\n",
        "plt.show()"
      ]
    }
  ],
  "metadata": {
    "colab": {
      "provenance": []
    },
    "kernelspec": {
      "display_name": "Python 3",
      "name": "python3"
    },
    "language_info": {
      "name": "python"
    }
  },
  "nbformat": 4,
  "nbformat_minor": 0
}