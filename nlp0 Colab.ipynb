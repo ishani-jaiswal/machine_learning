{
  "nbformat": 4,
  "nbformat_minor": 0,
  "metadata": {
    "colab": {
      "provenance": []
    },
    "kernelspec": {
      "name": "python3",
      "display_name": "Python 3"
    },
    "language_info": {
      "name": "python"
    }
  },
  "cells": [
    {
      "cell_type": "code",
      "execution_count": null,
      "metadata": {
        "id": "X-00iQRoDSAy"
      },
      "outputs": [],
      "source": [
        "# 1. Load the required libraries\n",
        "import nltk\n",
        "import spacy\n",
        "from textblob import TextBlob\n",
        "import string"
      ]
    },
    {
      "cell_type": "code",
      "source": [
        "# Download necessary NLTK resources\n",
        "nltk.download('punkt')"
      ],
      "metadata": {
        "colab": {
          "base_uri": "https://localhost:8080/"
        },
        "id": "8wo3PQwIDdZi",
        "outputId": "791e24e5-5c26-406b-ec75-9ca4f34d45ad"
      },
      "execution_count": null,
      "outputs": [
        {
          "output_type": "stream",
          "name": "stderr",
          "text": [
            "[nltk_data] Downloading package punkt to /root/nltk_data...\n",
            "[nltk_data]   Unzipping tokenizers/punkt.zip.\n"
          ]
        },
        {
          "output_type": "execute_result",
          "data": {
            "text/plain": [
              "True"
            ]
          },
          "metadata": {},
          "execution_count": 2
        }
      ]
    },
    {
      "cell_type": "code",
      "source": [
        "# 2. Tokenize a simple sentence using NLTK\n",
        "sentence_nltk = \"Natural Language Processing is fascinating!\"\n",
        "tokens = nltk.word_tokenize(sentence_nltk)\n",
        "print(\"Tokenized Sentence using NLTK:\")\n",
        "print(tokens)"
      ],
      "metadata": {
        "colab": {
          "base_uri": "https://localhost:8080/"
        },
        "id": "lSYGE2JyDkok",
        "outputId": "592242ab-493e-4ef6-ac51-b877d68a9e88"
      },
      "execution_count": null,
      "outputs": [
        {
          "output_type": "stream",
          "name": "stdout",
          "text": [
            "Tokenized Sentence using NLTK:\n",
            "['Natural', 'Language', 'Processing', 'is', 'fascinating', '!']\n"
          ]
        }
      ]
    },
    {
      "cell_type": "code",
      "source": [
        "# 3. Load the English language model in spaCy and perform POS tagging\n",
        "nlp = spacy.load(\"en_core_web_sm\")\n",
        "sentence_spacy = \"The quick brown fox jumps over the lazy dog.\"\n",
        "doc = nlp(sentence_spacy)\n",
        "print(\"\\nPOS Tagging using spaCy:\")\n",
        "for token in doc:\n",
        "    print(f\"{token.text}: {token.pos_}\")\n"
      ],
      "metadata": {
        "colab": {
          "base_uri": "https://localhost:8080/"
        },
        "id": "hJkDweY5DqGU",
        "outputId": "abc1b398-53ea-4a06-8f1e-a8b2ca3360bd"
      },
      "execution_count": null,
      "outputs": [
        {
          "output_type": "stream",
          "name": "stdout",
          "text": [
            "\n",
            "POS Tagging using spaCy:\n",
            "The: DET\n",
            "quick: ADJ\n",
            "brown: ADJ\n",
            "fox: NOUN\n",
            "jumps: VERB\n",
            "over: ADP\n",
            "the: DET\n",
            "lazy: ADJ\n",
            "dog: NOUN\n",
            ".: PUNCT\n"
          ]
        }
      ]
    },
    {
      "cell_type": "code",
      "source": [
        "# 4. Perform basic sentiment analysis with TextBlob\n",
        "sentence_blob = \"I love learning new things!\"\n",
        "blob = TextBlob(sentence_blob)\n",
        "print(\"\\nSentiment Analysis using TextBlob:\")\n",
        "print(f\"Sentiment Polarity: {blob.sentiment.polarity}\")\n",
        "print(f\"Sentiment Subjectivity: {blob.sentiment.subjectivity}\")"
      ],
      "metadata": {
        "colab": {
          "base_uri": "https://localhost:8080/"
        },
        "id": "eRNDr4pGDuuR",
        "outputId": "6859e292-ad67-448b-870f-0ea85413bec4"
      },
      "execution_count": null,
      "outputs": [
        {
          "output_type": "stream",
          "name": "stdout",
          "text": [
            "\n",
            "Sentiment Analysis using TextBlob:\n",
            "Sentiment Polarity: 0.3352272727272727\n",
            "Sentiment Subjectivity: 0.5272727272727272\n"
          ]
        }
      ]
    },
    {
      "cell_type": "code",
      "source": [
        "# 5. Write a Python function to clean text by converting it to lowercase and removing punctuation\n",
        "def clean_text(text):\n",
        "    text = text.lower()\n",
        "    text = text.translate(str.maketrans('', '', string.punctuation))\n",
        "    return text\n",
        "\n",
        "sentence=\"Hello, World! NLP is fun.\"\n",
        "print(clean_text(sentence))"
      ],
      "metadata": {
        "colab": {
          "base_uri": "https://localhost:8080/"
        },
        "id": "rlh4xz0UD0Rv",
        "outputId": "316a6ff6-9d10-46a1-9377-2c4555d1a968"
      },
      "execution_count": null,
      "outputs": [
        {
          "output_type": "stream",
          "name": "stdout",
          "text": [
            "hello world nlp is fun\n"
          ]
        }
      ]
    }
  ]
}