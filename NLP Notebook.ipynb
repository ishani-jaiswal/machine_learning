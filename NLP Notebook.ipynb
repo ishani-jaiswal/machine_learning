{
  "nbformat": 4,
  "nbformat_minor": 0,
  "metadata": {
    "colab": {
      "provenance": []
    },
    "kernelspec": {
      "name": "python3",
      "display_name": "Python 3"
    },
    "language_info": {
      "name": "python"
    }
  },
  "cells": [
    {
      "cell_type": "code",
      "execution_count": null,
      "metadata": {
        "colab": {
          "base_uri": "https://localhost:8080/"
        },
        "id": "WT4F34sQVQyK",
        "outputId": "5464c6fd-8dee-4e96-f21d-63cea4c4249d"
      },
      "outputs": [
        {
          "output_type": "execute_result",
          "data": {
            "text/plain": [
              "[['the',\n",
              "  'sun',\n",
              "  'sets',\n",
              "  'over',\n",
              "  'the',\n",
              "  'horizon',\n",
              "  'painting',\n",
              "  'the',\n",
              "  'sky',\n",
              "  'with',\n",
              "  'hues',\n",
              "  'of',\n",
              "  'orange',\n",
              "  'and',\n",
              "  'pink'],\n",
              " ['in',\n",
              "  'the',\n",
              "  'heart',\n",
              "  'of',\n",
              "  'the',\n",
              "  'forest',\n",
              "  'a',\n",
              "  'gentle',\n",
              "  'breeze',\n",
              "  'rustles',\n",
              "  'the',\n",
              "  'leaves'],\n",
              " ['she',\n",
              "  'walked',\n",
              "  'along',\n",
              "  'the',\n",
              "  'sandy',\n",
              "  'shore',\n",
              "  'feeling',\n",
              "  'the',\n",
              "  'cool',\n",
              "  'water',\n",
              "  'on',\n",
              "  'her',\n",
              "  'feet'],\n",
              " ['the',\n",
              "  'old',\n",
              "  'bookshop',\n",
              "  'on',\n",
              "  'the',\n",
              "  'corner',\n",
              "  'is',\n",
              "  'filled',\n",
              "  'with',\n",
              "  'stories',\n",
              "  'waiting',\n",
              "  'to',\n",
              "  'be',\n",
              "  'discovered'],\n",
              " ['as',\n",
              "  'the',\n",
              "  'rain',\n",
              "  'falls',\n",
              "  'outside',\n",
              "  'i',\n",
              "  'sit',\n",
              "  'by',\n",
              "  'the',\n",
              "  'window',\n",
              "  'with',\n",
              "  'a',\n",
              "  'cup',\n",
              "  'of',\n",
              "  'hot',\n",
              "  'tea']]"
            ]
          },
          "metadata": {},
          "execution_count": 4
        }
      ],
      "source": [
        "import re\n",
        "\n",
        "sentences = [\n",
        "    \"The sun sets over the horizon, painting the sky with hues of orange and pink.\",\n",
        "    \"In the heart of the forest, a gentle breeze rustles the leaves.\",\n",
        "    \"She walked along the sandy shore, feeling the cool water on her feet.\",\n",
        "    \"The old bookshop on the corner is filled with stories waiting to be discovered.\",\n",
        "    \"As the rain falls outside, I sit by the window with a cup of hot tea.\"\n",
        "]\n",
        "\n",
        "corpus = [re.findall(r'\\b\\w+\\b', sentence.lower()) for sentence in sentences]\n",
        "corpus"
      ]
    },
    {
      "cell_type": "code",
      "source": [
        "from collections import defaultdict\n",
        "\n",
        "def generate_ngrams(tokens, n):\n",
        "    ngrams = []\n",
        "    for sentence in tokens:\n",
        "        for i in range(len(sentence) - n + 1):\n",
        "            ngrams.append(tuple(sentence[i:i+n]))\n",
        "    return ngrams\n",
        "\n",
        "bigrams = generate_ngrams(corpus, 2)\n",
        "\n",
        "bigrams\n"
      ],
      "metadata": {
        "colab": {
          "base_uri": "https://localhost:8080/"
        },
        "id": "tPLv3DwAVlLy",
        "outputId": "4461348a-0fd0-4ed7-9ce9-c92dcc2a9c73"
      },
      "execution_count": null,
      "outputs": [
        {
          "output_type": "execute_result",
          "data": {
            "text/plain": [
              "[('the', 'sun'),\n",
              " ('sun', 'sets'),\n",
              " ('sets', 'over'),\n",
              " ('over', 'the'),\n",
              " ('the', 'horizon'),\n",
              " ('horizon', 'painting'),\n",
              " ('painting', 'the'),\n",
              " ('the', 'sky'),\n",
              " ('sky', 'with'),\n",
              " ('with', 'hues'),\n",
              " ('hues', 'of'),\n",
              " ('of', 'orange'),\n",
              " ('orange', 'and'),\n",
              " ('and', 'pink'),\n",
              " ('in', 'the'),\n",
              " ('the', 'heart'),\n",
              " ('heart', 'of'),\n",
              " ('of', 'the'),\n",
              " ('the', 'forest'),\n",
              " ('forest', 'a'),\n",
              " ('a', 'gentle'),\n",
              " ('gentle', 'breeze'),\n",
              " ('breeze', 'rustles'),\n",
              " ('rustles', 'the'),\n",
              " ('the', 'leaves'),\n",
              " ('she', 'walked'),\n",
              " ('walked', 'along'),\n",
              " ('along', 'the'),\n",
              " ('the', 'sandy'),\n",
              " ('sandy', 'shore'),\n",
              " ('shore', 'feeling'),\n",
              " ('feeling', 'the'),\n",
              " ('the', 'cool'),\n",
              " ('cool', 'water'),\n",
              " ('water', 'on'),\n",
              " ('on', 'her'),\n",
              " ('her', 'feet'),\n",
              " ('the', 'old'),\n",
              " ('old', 'bookshop'),\n",
              " ('bookshop', 'on'),\n",
              " ('on', 'the'),\n",
              " ('the', 'corner'),\n",
              " ('corner', 'is'),\n",
              " ('is', 'filled'),\n",
              " ('filled', 'with'),\n",
              " ('with', 'stories'),\n",
              " ('stories', 'waiting'),\n",
              " ('waiting', 'to'),\n",
              " ('to', 'be'),\n",
              " ('be', 'discovered'),\n",
              " ('as', 'the'),\n",
              " ('the', 'rain'),\n",
              " ('rain', 'falls'),\n",
              " ('falls', 'outside'),\n",
              " ('outside', 'i'),\n",
              " ('i', 'sit'),\n",
              " ('sit', 'by'),\n",
              " ('by', 'the'),\n",
              " ('the', 'window'),\n",
              " ('window', 'with'),\n",
              " ('with', 'a'),\n",
              " ('a', 'cup'),\n",
              " ('cup', 'of'),\n",
              " ('of', 'hot'),\n",
              " ('hot', 'tea')]"
            ]
          },
          "metadata": {},
          "execution_count": 8
        }
      ]
    },
    {
      "cell_type": "code",
      "source": [
        "def build_ngram_frequency(tokens, n):\n",
        "    ngram_freq = defaultdict(lambda: defaultdict(int))\n",
        "\n",
        "    for sentence in tokens:\n",
        "        for i in range(len(sentence) - n):\n",
        "            ngram = tuple(sentence[i:i+n-1])\n",
        "            next_word = sentence[i+n-1]\n",
        "            ngram_freq[ngram][next_word] += 1\n",
        "\n",
        "    return ngram_freq\n",
        "\n",
        "bigram_freq = build_ngram_frequency(corpus, 2)\n",
        "\n",
        "bigram_freq\n"
      ],
      "metadata": {
        "colab": {
          "base_uri": "https://localhost:8080/"
        },
        "id": "fUVTMQSHW8bu",
        "outputId": "ca5db8db-a627-4d8a-a089-26bc7704fb61"
      },
      "execution_count": null,
      "outputs": [
        {
          "output_type": "execute_result",
          "data": {
            "text/plain": [
              "defaultdict(<function __main__.build_ngram_frequency.<locals>.<lambda>()>,\n",
              "            {('the',): defaultdict(int,\n",
              "                         {'sun': 1,\n",
              "                          'horizon': 1,\n",
              "                          'sky': 1,\n",
              "                          'heart': 1,\n",
              "                          'forest': 1,\n",
              "                          'sandy': 1,\n",
              "                          'cool': 1,\n",
              "                          'old': 1,\n",
              "                          'corner': 1,\n",
              "                          'rain': 1,\n",
              "                          'window': 1}),\n",
              "             ('sun',): defaultdict(int, {'sets': 1}),\n",
              "             ('sets',): defaultdict(int, {'over': 1}),\n",
              "             ('over',): defaultdict(int, {'the': 1}),\n",
              "             ('horizon',): defaultdict(int, {'painting': 1}),\n",
              "             ('painting',): defaultdict(int, {'the': 1}),\n",
              "             ('sky',): defaultdict(int, {'with': 1}),\n",
              "             ('with',): defaultdict(int, {'hues': 1, 'stories': 1, 'a': 1}),\n",
              "             ('hues',): defaultdict(int, {'of': 1}),\n",
              "             ('of',): defaultdict(int, {'orange': 1, 'the': 1, 'hot': 1}),\n",
              "             ('orange',): defaultdict(int, {'and': 1}),\n",
              "             ('in',): defaultdict(int, {'the': 1}),\n",
              "             ('heart',): defaultdict(int, {'of': 1}),\n",
              "             ('forest',): defaultdict(int, {'a': 1}),\n",
              "             ('a',): defaultdict(int, {'gentle': 1, 'cup': 1}),\n",
              "             ('gentle',): defaultdict(int, {'breeze': 1}),\n",
              "             ('breeze',): defaultdict(int, {'rustles': 1}),\n",
              "             ('rustles',): defaultdict(int, {'the': 1}),\n",
              "             ('she',): defaultdict(int, {'walked': 1}),\n",
              "             ('walked',): defaultdict(int, {'along': 1}),\n",
              "             ('along',): defaultdict(int, {'the': 1}),\n",
              "             ('sandy',): defaultdict(int, {'shore': 1}),\n",
              "             ('shore',): defaultdict(int, {'feeling': 1}),\n",
              "             ('feeling',): defaultdict(int, {'the': 1}),\n",
              "             ('cool',): defaultdict(int, {'water': 1}),\n",
              "             ('water',): defaultdict(int, {'on': 1}),\n",
              "             ('on',): defaultdict(int, {'her': 1, 'the': 1}),\n",
              "             ('old',): defaultdict(int, {'bookshop': 1}),\n",
              "             ('bookshop',): defaultdict(int, {'on': 1}),\n",
              "             ('corner',): defaultdict(int, {'is': 1}),\n",
              "             ('is',): defaultdict(int, {'filled': 1}),\n",
              "             ('filled',): defaultdict(int, {'with': 1}),\n",
              "             ('stories',): defaultdict(int, {'waiting': 1}),\n",
              "             ('waiting',): defaultdict(int, {'to': 1}),\n",
              "             ('to',): defaultdict(int, {'be': 1}),\n",
              "             ('as',): defaultdict(int, {'the': 1}),\n",
              "             ('rain',): defaultdict(int, {'falls': 1}),\n",
              "             ('falls',): defaultdict(int, {'outside': 1}),\n",
              "             ('outside',): defaultdict(int, {'i': 1}),\n",
              "             ('i',): defaultdict(int, {'sit': 1}),\n",
              "             ('sit',): defaultdict(int, {'by': 1}),\n",
              "             ('by',): defaultdict(int, {'the': 1}),\n",
              "             ('window',): defaultdict(int, {'with': 1}),\n",
              "             ('cup',): defaultdict(int, {'of': 1})})"
            ]
          },
          "metadata": {},
          "execution_count": 9
        }
      ]
    },
    {
      "cell_type": "code",
      "source": [
        "import random\n",
        "\n",
        "def predict_next(ngram_freq, current_ngram):\n",
        "    next_word_probs = ngram_freq.get(current_ngram, {})\n",
        "\n",
        "    if not next_word_probs:\n",
        "        return random.choice(list(set(word for sentence in corpus for word in sentence)))\n",
        "\n",
        "    total_count = sum(next_word_probs.values())\n",
        "    next_word = random.choices(list(next_word_probs.keys()), weights=list(next_word_probs.values()), k=1)[0]\n",
        "\n",
        "    return next_word\n",
        "\n",
        "def generate_text(ngram_freq, start_ngram, n, num_words):\n",
        "    current_ngram = start_ngram\n",
        "    generated_text = list(current_ngram)\n",
        "\n",
        "    for _ in range(num_words):\n",
        "        next_word = predict_next(ngram_freq, current_ngram)\n",
        "        generated_text.append(next_word)\n",
        "        current_ngram = tuple(generated_text[-(n-1):])\n",
        "\n",
        "    return ' '.join(generated_text)\n",
        "\n",
        "start_bigram = (\"the\", \"rain\")\n",
        "generated_sentence = generate_text(bigram_freq, start_bigram, 2, 2)\n",
        "\n",
        "print(generated_sentence)\n",
        "\n",
        "start_bigram = (\"the\", \"old\",\"bookshop\")\n",
        "generated_sentence = generate_text(bigram_freq, start_bigram, 2, 2)\n",
        "\n",
        "print(generated_sentence)\n"
      ],
      "metadata": {
        "colab": {
          "base_uri": "https://localhost:8080/"
        },
        "id": "-9WztsMaYE6A",
        "outputId": "e854321d-21c1-4aec-c5fd-a4ed63802df9"
      },
      "execution_count": null,
      "outputs": [
        {
          "output_type": "stream",
          "name": "stdout",
          "text": [
            "the rain gentle breeze\n",
            "the old bookshop the corner\n"
          ]
        }
      ]
    }
  ]
}