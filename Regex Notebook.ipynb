{
  "nbformat": 4,
  "nbformat_minor": 0,
  "metadata": {
    "colab": {
      "provenance": []
    },
    "kernelspec": {
      "name": "python3",
      "display_name": "Python 3"
    },
    "language_info": {
      "name": "python"
    }
  },
  "cells": [
    {
      "cell_type": "markdown",
      "source": [
        "Ishani Jaiswal\n",
        "E22CSEU0442"
      ],
      "metadata": {
        "id": "bbgZmSpoTlpo"
      }
    },
    {
      "cell_type": "code",
      "execution_count": null,
      "metadata": {
        "colab": {
          "base_uri": "https://localhost:8080/"
        },
        "id": "Ay1-rGFdL5uC",
        "outputId": "0c7f2ad3-7ca5-4682-feb9-6bcc83e1bfae"
      },
      "outputs": [
        {
          "output_type": "stream",
          "name": "stdout",
          "text": [
            "['https://www.xy123z.com/']\n"
          ]
        }
      ],
      "source": [
        "import re\n",
        "\n",
        "# 1. Finding a URL in a sentence\n",
        "a = \"I love spending time at https://www.xy123z.com/\"\n",
        "url = re.findall(r'https?://[^\\s]+', a)\n",
        "print(url)"
      ]
    },
    {
      "cell_type": "code",
      "source": [
        "# 2. Extracting an Email ID from a sentence\n",
        "b = \"My email id is xyz111@gmail.com\"\n",
        "email = re.findall(r'\\b[A-Za-z0-9._%+-]+@[A-Za-z0-9.-]+\\.[A-Z|a-z]{2,}\\b', b)\n",
        "print(email)\n"
      ],
      "metadata": {
        "colab": {
          "base_uri": "https://localhost:8080/"
        },
        "id": "7WOKJE8lNCGE",
        "outputId": "24a8881f-3b02-4d79-9df1-b7526456370c"
      },
      "execution_count": null,
      "outputs": [
        {
          "output_type": "stream",
          "name": "stdout",
          "text": [
            "['xyz111@gmail.com']\n"
          ]
        }
      ]
    },
    {
      "cell_type": "code",
      "source": [
        "# 3. Finding Hashtags in a Sentence\n",
        "c = \"#Sushant is trending now in the world.\"\n",
        "hashtag = re.findall(r'#\\w+', c)\n",
        "print(hashtag)\n"
      ],
      "metadata": {
        "colab": {
          "base_uri": "https://localhost:8080/"
        },
        "id": "4t4-RVv2NEK6",
        "outputId": "ba970c0a-c101-47d9-f51c-f4c341d73ffe"
      },
      "execution_count": null,
      "outputs": [
        {
          "output_type": "stream",
          "name": "stdout",
          "text": [
            "['#Sushant']\n"
          ]
        }
      ]
    },
    {
      "cell_type": "code",
      "source": [
        "# 4. Finding Mentions in a Sentence\n",
        "d = \"@Ajit, please help me\"\n",
        "mention = re.findall(r'@\\w+', d)\n",
        "print(mention)\n"
      ],
      "metadata": {
        "colab": {
          "base_uri": "https://localhost:8080/"
        },
        "id": "Fdqs3nHZNHj4",
        "outputId": "cb133035-80f2-486c-c2ae-c596d89370e7"
      },
      "execution_count": null,
      "outputs": [
        {
          "output_type": "stream",
          "name": "stdout",
          "text": [
            "['@Ajit']\n"
          ]
        }
      ]
    },
    {
      "cell_type": "code",
      "source": [
        "# 5. Finding Numbers in a Sentence\n",
        "e = \"8853147 sq. km of area washed away in floods\"\n",
        "numbers = re.findall(r'\\d+', e)\n",
        "print(numbers)\n"
      ],
      "metadata": {
        "colab": {
          "base_uri": "https://localhost:8080/"
        },
        "id": "CkVSaWWLNNYI",
        "outputId": "42fa0613-bcb2-44b9-d1bc-4df7ca1f66b6"
      },
      "execution_count": null,
      "outputs": [
        {
          "output_type": "stream",
          "name": "stdout",
          "text": [
            "['8853147']\n"
          ]
        }
      ]
    },
    {
      "cell_type": "code",
      "source": [
        "# 6. Finding Punctuations in a Sentence\n",
        "f = \"Corona virus killed #24506 people. #Corona is un(tolerable)\"\n",
        "punctuations = re.findall(r'[^\\w\\s]', f)\n",
        "print(punctuations)\n"
      ],
      "metadata": {
        "colab": {
          "base_uri": "https://localhost:8080/"
        },
        "id": "H6a8owqGNQ4E",
        "outputId": "4edbd65c-aad5-4031-8399-f94caaf5569a"
      },
      "execution_count": null,
      "outputs": [
        {
          "output_type": "stream",
          "name": "stdout",
          "text": [
            "['#', '.', '#', '(', ')']\n"
          ]
        }
      ]
    },
    {
      "cell_type": "code",
      "source": [
        "# 7. Validating PAN Number\n",
        "g1 = \"ABCED3193P\"\n",
        "g2 = \"lEcGD012eg\"\n",
        "pan_pattern = r'[A-Z]{5}[0-9]{4}[A-Z]'\n",
        "is_valid_pan1 = bool(re.fullmatch(pan_pattern, g1))\n",
        "is_valid_pan2 = bool(re.fullmatch(pan_pattern, g2))\n",
        "print(is_valid_pan1)\n",
        "print(is_valid_pan2)"
      ],
      "metadata": {
        "colab": {
          "base_uri": "https://localhost:8080/"
        },
        "id": "9A_nMAEFNTK9",
        "outputId": "3e5dbd96-f502-4630-8f38-7916c57678ff"
      },
      "execution_count": null,
      "outputs": [
        {
          "output_type": "stream",
          "name": "stdout",
          "text": [
            "True\n",
            "False\n"
          ]
        }
      ]
    },
    {
      "cell_type": "code",
      "source": [
        "# 8. Removing Repetitive Characters from a Sentence\n",
        "h = \"heyyy this is a verrrry loong texttt\"\n",
        "no_repeats = re.sub(r'(.)\\1+', r'\\1', h)\n",
        "print(no_repeats)\n"
      ],
      "metadata": {
        "colab": {
          "base_uri": "https://localhost:8080/"
        },
        "id": "mAyockz_NVj5",
        "outputId": "b61dce29-f16c-4a27-8ea1-a6945ea2343a"
      },
      "execution_count": null,
      "outputs": [
        {
          "output_type": "stream",
          "name": "stdout",
          "text": [
            "hey this is a very long text\n"
          ]
        }
      ]
    },
    {
      "cell_type": "code",
      "source": [
        "# 9. Finding Indian Mobile Numbers\n",
        "i = \"9990001796 is a phone number of PMO office\"\n",
        "mobile_number = re.findall(r'\\b\\d{10}\\b', i)\n",
        "print(mobile_number)\n"
      ],
      "metadata": {
        "colab": {
          "base_uri": "https://localhost:8080/"
        },
        "id": "pZYioFQPNvpS",
        "outputId": "8162054e-4e3f-47b6-c485-6c5e8d1c2459"
      },
      "execution_count": null,
      "outputs": [
        {
          "output_type": "stream",
          "name": "stdout",
          "text": [
            "['9990001796']\n"
          ]
        }
      ]
    },
    {
      "cell_type": "code",
      "source": [
        "# 10. Extracting Words Starting with a Capital Letter\n",
        "j = \"Ajit Doval is the National Security Advisor in India.\"\n",
        "capital_words = re.findall(r'\\b[A-Z][a-z]*\\b', j)\n",
        "print(capital_words)\n"
      ],
      "metadata": {
        "colab": {
          "base_uri": "https://localhost:8080/"
        },
        "id": "hbnx6cgXNyaM",
        "outputId": "82205df2-9feb-4aee-8d9e-4e087d2426fa"
      },
      "execution_count": null,
      "outputs": [
        {
          "output_type": "stream",
          "name": "stdout",
          "text": [
            "['Ajit', 'Doval', 'National', 'Security', 'Advisor', 'India']\n"
          ]
        }
      ]
    }
  ]
}