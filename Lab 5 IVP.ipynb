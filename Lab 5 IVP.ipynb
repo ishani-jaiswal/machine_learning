{
  "nbformat": 4,
  "nbformat_minor": 0,
  "metadata": {
    "colab": {
      "provenance": []
    },
    "kernelspec": {
      "name": "python3",
      "display_name": "Python 3"
    },
    "language_info": {
      "name": "python"
    }
  },
  "cells": [
    {
      "cell_type": "code",
      "execution_count": null,
      "metadata": {
        "id": "2GcfkCze9gF2"
      },
      "outputs": [],
      "source": [
        "# Import necessary libraries\n",
        "import cv2\n",
        "import numpy as np\n",
        "import matplotlib.pyplot as plt\n",
        "from scipy.ndimage import gaussian_filter\n",
        "\n",
        "# Load the grayscale image\n",
        "image = cv2.imread('grayscale_image.jpg', cv2.IMREAD_GRAYSCALE)\n",
        "\n",
        "# Display original image\n",
        "plt.figure(figsize=(10, 5))\n",
        "plt.imshow(image, cmap='gray')\n",
        "plt.title(\"Original Image\")\n",
        "plt.axis(\"off\")\n",
        "plt.show()\n",
        "\n",
        "# Task 1: Apply Edge Detection Filters\n",
        "# a. Prewitt Filter\n",
        "prewitt_x = cv2.filter2D(image, -1, np.array([[-1, 0, 1], [-1, 0, 1], [-1, 0, 1]]))\n",
        "prewitt_y = cv2.filter2D(image, -1, np.array([[-1, -1, -1], [0, 0, 0], [1, 1, 1]]))\n",
        "prewitt = prewitt_x + prewitt_y\n",
        "\n",
        "# b. Sobel Filter\n",
        "sobel_x = cv2.Sobel(image, cv2.CV_64F, 1, 0, ksize=3)\n",
        "sobel_y = cv2.Sobel(image, cv2.CV_64F, 0, 1, ksize=3)\n",
        "sobel = cv2.magnitude(sobel_x, sobel_y)\n",
        "\n",
        "# c. Laplacian Filter\n",
        "laplacian = cv2.Laplacian(image, cv2.CV_64F)\n",
        "\n",
        "# d. Laplacian of Gaussian (LoG)\n",
        "gaussian_blur = cv2.GaussianBlur(image, (5, 5), 0)\n",
        "log = cv2.Laplacian(gaussian_blur, cv2.CV_64F)\n",
        "\n",
        "# Display Edge Detection Results\n",
        "filters = [prewitt, sobel, laplacian, log]\n",
        "titles = [\"Prewitt\", \"Sobel\", \"Laplacian\", \"LoG\"]\n",
        "plt.figure(figsize=(15, 10))\n",
        "for i in range(4):\n",
        "    plt.subplot(2, 2, i+1)\n",
        "    plt.imshow(filters[i], cmap='gray')\n",
        "    plt.title(titles[i])\n",
        "    plt.axis(\"off\")\n",
        "plt.show()"
      ]
    },
    {
      "cell_type": "code",
      "source": [
        "# Task 2: Add Gaussian Noise and Apply Edge Detection\n",
        "noise_levels = [1, 2, 10]\n",
        "plt.figure(figsize=(20, 15))\n",
        "\n",
        "for i, sigma in enumerate(noise_levels):\n",
        "    noisy_image = image + np.random.normal(0, sigma, image.shape)\n",
        "    noisy_image = np.clip(noisy_image, 0, 255).astype(np.uint8)\n",
        "\n",
        "    prewitt_n = cv2.filter2D(noisy_image, -1, np.array([[-1, 0, 1], [-1, 0, 1], [-1, 0, 1]])) + \\\n",
        "                 cv2.filter2D(noisy_image, -1, np.array([[-1, -1, -1], [0, 0, 0], [1, 1, 1]]))\n",
        "    sobel_n = cv2.magnitude(cv2.Sobel(noisy_image, cv2.CV_64F, 1, 0, ksize=3), \\\n",
        "                            cv2.Sobel(noisy_image, cv2.CV_64F, 0, 1, ksize=3))\n",
        "    laplacian_n = cv2.Laplacian(noisy_image, cv2.CV_64F)\n",
        "    log_n = cv2.Laplacian(cv2.GaussianBlur(noisy_image, (5, 5), 0), cv2.CV_64F)\n",
        "\n",
        "    noisy_filters = [prewitt_n, sobel_n, laplacian_n, log_n]\n",
        "    for j in range(4):\n",
        "        plt.subplot(len(noise_levels), 4, i * 4 + j + 1)\n",
        "        plt.imshow(noisy_filters[j], cmap='gray')\n",
        "        plt.title(f\"{titles[j]} (Noise SD={sigma})\")\n",
        "        plt.axis(\"off\")\n",
        "\n",
        "plt.show()\n"
      ],
      "metadata": {
        "id": "aWFC58T9-3g_"
      },
      "execution_count": null,
      "outputs": []
    },
    {
      "cell_type": "code",
      "source": [
        "# Task 3a: High-Pass Filtering\n",
        "kernel_highpass = np.array([[-1, -1, -1], [-1, 8, -1], [-1, -1, -1]])\n",
        "highpass_image = cv2.filter2D(image, -1, kernel_highpass)\n",
        "\n",
        "# Display High-Pass Filtered Image\n",
        "plt.figure(figsize=(10, 5))\n",
        "plt.subplot(1, 2, 1)\n",
        "plt.imshow(image, cmap='gray')\n",
        "plt.title(\"Original Image\")\n",
        "plt.axis(\"off\")\n",
        "plt.subplot(1, 2, 2)\n",
        "plt.imshow(highpass_image, cmap='gray')\n",
        "plt.title(\"High-Pass Filtered Image\")\n",
        "plt.axis(\"off\")\n",
        "plt.show()"
      ],
      "metadata": {
        "id": "HTiMl7Fz-7hg"
      },
      "execution_count": null,
      "outputs": []
    },
    {
      "cell_type": "code",
      "source": [
        "# Task 3b: Unsharp Masking & High-Boost Filtering\n",
        "blurred = cv2.GaussianBlur(image, (5, 5), 1)\n",
        "unsharp_mask = cv2.subtract(image, blurred)\n",
        "boost_factors = [2, 3, 7]\n",
        "\n",
        "plt.figure(figsize=(15, 5))\n",
        "for i, boost in enumerate(boost_factors):\n",
        "    high_boost = cv2.addWeighted(image, boost, blurred, 1-boost, 0)\n",
        "    plt.subplot(1, len(boost_factors), i+1)\n",
        "    plt.imshow(high_boost, cmap='gray')\n",
        "    plt.title(f\"High-Boost (Factor={boost})\")\n",
        "    plt.axis(\"off\")\n",
        "\n",
        "plt.show()"
      ],
      "metadata": {
        "id": "rt8_0w-V-_Aa"
      },
      "execution_count": null,
      "outputs": []
    }
  ]
}