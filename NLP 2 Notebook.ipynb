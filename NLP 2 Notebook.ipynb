{
  "nbformat": 4,
  "nbformat_minor": 0,
  "metadata": {
    "colab": {
      "provenance": []
    },
    "kernelspec": {
      "name": "python3",
      "display_name": "Python 3"
    },
    "language_info": {
      "name": "python"
    }
  },
  "cells": [
    {
      "cell_type": "code",
      "execution_count": null,
      "metadata": {
        "colab": {
          "base_uri": "https://localhost:8080/"
        },
        "id": "iLmuCa4wMd9N",
        "outputId": "a109820a-6544-4311-f26e-5de933afceb0"
      },
      "outputs": [
        {
          "output_type": "stream",
          "name": "stdout",
          "text": [
            "The probability of the sequence '<S> I I am not </S>' is: 0.0\n"
          ]
        }
      ],
      "source": [
        "from collections import Counter\n",
        "\n",
        "corpus = [\n",
        "    \"<S> I am a human </S>\",\n",
        "    \"<S> I am not a stone </S>\",\n",
        "    \"<S> I I live in Mumbai </S>\"\n",
        "]\n",
        "\n",
        "bigrams = []\n",
        "\n",
        "for sentence in corpus:\n",
        "    tokens = sentence.split()\n",
        "    for i in range(len(tokens) - 1):\n",
        "        bigrams.append((tokens[i], tokens[i+1]))\n",
        "\n",
        "bigram_counts = Counter(bigrams)\n",
        "unigram_counts = Counter([token for sentence in corpus for token in sentence.split()])\n",
        "# print(bigrams)\n",
        "# print(bigram_counts)\n",
        "# print(unigram_counts)\n",
        "\n",
        "sequence = [\"<S>\", \"I\", \"I\", \"am\", \"not\", \"</S>\"]\n",
        "\n",
        "probability = 1.0\n",
        "\n",
        "for i in range(len(sequence) - 1):\n",
        "    bigram = (sequence[i], sequence[i+1])\n",
        "    if unigram_counts[sequence[i]] > 0:\n",
        "        probability *= bigram_counts[bigram] / unigram_counts[sequence[i]]\n",
        "    else:\n",
        "        probability *= 0\n",
        "\n",
        "print(\"The probability of the sequence '<S> I I am not </S>' is:\", probability)\n"
      ]
    },
    {
      "cell_type": "markdown",
      "source": [],
      "metadata": {
        "id": "5_lcn_xOPSQq"
      }
    },
    {
      "cell_type": "code",
      "source": [
        "from collections import Counter\n",
        "\n",
        "corpus = [\n",
        "    \"<S> I am Jack </S>\",\n",
        "    \"<S> Jack I am </S>\",\n",
        "    \"<S> Jack I like </S>\",\n",
        "    \"<S> Jack I do like </S>\",\n",
        "    \"<S> do I like Jack </S>\"\n",
        "]\n",
        "\n",
        "bigrams = []\n",
        "\n",
        "for sentence in corpus:\n",
        "    tokens = sentence.split()\n",
        "    for i in range(len(tokens) - 1):\n",
        "        bigrams.append((tokens[i], tokens[i+1]))\n",
        "\n",
        "bigram_counts = Counter(bigrams)\n",
        "unigram_counts = Counter([token for sentence in corpus for token in sentence.split()])\n",
        "# print(bigrams)\n",
        "# print(bigram_counts)\n",
        "# print(unigram_counts)\n",
        "unique_words = set()\n",
        "\n",
        "for sentence in corpus:\n",
        "    tokens = sentence.split()\n",
        "    unique_words.update(tokens)\n",
        "\n",
        "unique_words = list(unique_words)\n",
        "sequence1 = [\"<S>\", \"Jack\"]\n",
        "sequence2 = [\"<S>\", \"Jack\", \"I\", \"do\"]\n",
        "sequence3 = [\"<S>\", \"Jack\", \"I\", \"am\",\"Jack\"]\n",
        "sequence4 = [\"<S>\", \"do\", \"I\", \"like\"]\n",
        "sequence=[sequence1,sequence2,sequence3,sequence4]\n",
        "\n",
        "for seq in sequence:\n",
        "    prob = {}\n",
        "    last_word = seq[-1]\n",
        "    for word in unique_words:\n",
        "        bigram = (last_word, word)\n",
        "        if unigram_counts[last_word] > 0:\n",
        "            probability = bigram_counts[bigram] / unigram_counts[last_word]\n",
        "        else:\n",
        "            probability = 0\n",
        "        prob[word] = probability\n",
        "\n",
        "    max_prob = max(prob.values())\n",
        "\n",
        "    max_prob_words = [word for word, p in prob.items() if p == max_prob]\n",
        "\n",
        "    print(f\"Sequence: {' '.join(seq)}\")\n",
        "    print(f\"Next word(s) with max probability: {', '.join(max_prob_words)}\")\n",
        "    print()\n"
      ],
      "metadata": {
        "colab": {
          "base_uri": "https://localhost:8080/"
        },
        "id": "gDpSDIodN0Qu",
        "outputId": "8c53b1ca-aff5-411b-c05f-1f1ca67ad41e"
      },
      "execution_count": null,
      "outputs": [
        {
          "output_type": "stream",
          "name": "stdout",
          "text": [
            "Sequence: <S> Jack\n",
            "Next word(s) with max probability: I\n",
            "\n",
            "Sequence: <S> Jack I do\n",
            "Next word(s) with max probability: I, like\n",
            "\n",
            "Sequence: <S> Jack I am Jack\n",
            "Next word(s) with max probability: I\n",
            "\n",
            "Sequence: <S> do I like\n",
            "Next word(s) with max probability: </S>\n",
            "\n"
          ]
        }
      ]
    }
  ]
}